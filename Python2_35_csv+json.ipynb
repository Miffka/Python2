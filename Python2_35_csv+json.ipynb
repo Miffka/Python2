{
 "cells": [
  {
   "cell_type": "code",
   "execution_count": 7,
   "metadata": {},
   "outputs": [
    {
     "name": "stdout",
     "output_type": "stream",
     "text": [
      "240\n",
      "240.2\n"
     ]
    }
   ],
   "source": [
    "# Начали сразу с части 2 - с json\n",
    "# В json объекты хранят все то, что хранят обычные структуры данных python\n",
    "# Ключом в словаре json может быть только строка\n",
    "# Значения true и false пишутся с маленькой буквы\n",
    "# Значение None пишется как Null\n",
    "\n",
    "import json\n",
    "student1 = {\n",
    "    'first_name':'Greg',\n",
    "    'last_name':'Dean',\n",
    "    'scores':[70,80,90],\n",
    "    'description':\"Good job, Greg\",\n",
    "    'certificate':True\n",
    "}\n",
    "student2 = {\n",
    "    'first_name':'Wirt',\n",
    "    'last_name':'Wood',\n",
    "    'scores':[80,80.2,80],\n",
    "    'description':\"Nicely Done\",\n",
    "    'certificate':True\n",
    "}\n",
    "data = [student1, student2]\n",
    "#print(json.dumps(data, indent=4, sort_keys=True))\n",
    "#with open(\"students.json\", \"w\") as f:\n",
    "#    json.dump(data, f, indent=4, sort_keys=True)\n",
    "    \n",
    "data_json = json.dumps(data, indent=4, sort_keys=True)\n",
    "data_again = json.loads(data_json)\n",
    "print(sum(data_again[0][\"scores\"]))\n",
    "\n",
    "with open(\"students.json\") as f:\n",
    "    data_again = json.load(f)\n",
    "    print(sum(data_again[1][\"scores\"]))"
   ]
  },
  {
   "cell_type": "code",
   "execution_count": 32,
   "metadata": {},
   "outputs": [
    {
     "name": "stdout",
     "output_type": "stream",
     "text": [
      "[{\"name\": \"B\", \"parents\": [\"A\", \"C\"]}, {\"name\": \"C\", \"parents\": [\"A\"]}, {\"name\": \"A\", \"parents\": []}, {\"name\": \"D\", \"parents\":[\"C\", \"F\"]}, {\"name\": \"E\", \"parents\":[\"D\"]}, {\"name\": \"F\", \"parents\":[]}]\n",
      "A : 5\n",
      "B : 1\n",
      "C : 4\n",
      "D : 2\n",
      "E : 1\n",
      "F : 3\n"
     ]
    }
   ],
   "source": [
    "# Задача 2 - сколько потомков у класса (считая себя!)\n",
    "\n",
    "# [{\"name\": \"A\", \"parents\": []}, {\"name\": \"B\", \"parents\": [\"A\", \"C\"]}, {\"name\": \"C\", \"parents\": [\"A\"]}]\n",
    "# [{\"name\": \"B\", \"parents\": [\"A\", \"C\"]}, {\"name\": \"C\", \"parents\": [\"A\"]}, {\"name\": \"A\", \"parents\": []}, {\"name\": \"D\", \"parents\":[\"C\", \"F\"]}, {\"name\": \"E\", \"parents\":[\"D\"]}, {\"name\": \"F\", \"parents\":[]}]\n",
    "\n",
    "\n",
    "# Читаем ввод\n",
    "inp = json.loads(input())\n",
    "\n",
    "def find_children(structure, node, children=None):\n",
    "    if children == None:\n",
    "        children = []\n",
    "    children.append(node['name'])\n",
    "    for element in structure:\n",
    "        if node['name'] in element['parents']:\n",
    "            find_children(structure, element, children)\n",
    "    return(children)\n",
    "    \n",
    "inp.sort(key = lambda x: x['name'])\n",
    "\n",
    "for i in inp:\n",
    "    i['children'] = []\n",
    "    i['children'].extend(list(set(find_children(inp, i))))\n",
    "    print(i['name'], len(i['children']), sep = \" : \")\n",
    "\n"
   ]
  }
 ],
 "metadata": {
  "kernelspec": {
   "display_name": "Python 3",
   "language": "python",
   "name": "python3"
  },
  "language_info": {
   "codemirror_mode": {
    "name": "ipython",
    "version": 3
   },
   "file_extension": ".py",
   "mimetype": "text/x-python",
   "name": "python",
   "nbconvert_exporter": "python",
   "pygments_lexer": "ipython3",
   "version": "3.6.0"
  }
 },
 "nbformat": 4,
 "nbformat_minor": 2
}
