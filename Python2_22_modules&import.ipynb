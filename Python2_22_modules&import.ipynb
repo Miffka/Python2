{
 "cells": [
  {
   "cell_type": "code",
   "execution_count": 13,
   "metadata": {},
   "outputs": [
    {
     "name": "stdout",
     "output_type": "stream",
     "text": [
      "b'sc\\x00\\x02\\x96\\x93^\\xd7&1\\x9f\\xd0\\x14\\x02\\x14\\xd1\\x92`\\xeb\\x1b\\xdbulr\\x0e\\xeb\\x0f\\xf0D\\xcf\\x87\\xf5\\xd5\\xf2oKA\\x89b/\\xaa\\xa6y;\\x8b)\\x89\\xbdl\\x0f\\x96\\x144\\x8e\\xe2P\\xa8\\xcf\\xc7T\\xf6>.`m\\xfbC/\\xc1V\\xd2>\\xd0\\xaf\\xbb0%V\\x14\\xac\\xf7\\n\\xcd'\n",
      "['9XB8nsIqRfYeswC', '4sEhUGLEZti9BiN', 'bDjmT0NcIW8nzhb', 'ZN6QQoMOO1ZQLUY', 'RVrF2qdMpoq6Lib', 'tnnX7HH3vJ9Hiji', 'C24TJYYkqekv40l', 'B2ropluPaMAitzE', 'DRezNUVnr2zC0CP', 'XCNmpTvvZb1n3mX']\n",
      "b'Alice loves Bob'\n"
     ]
    }
   ],
   "source": [
    "# Задача 2 - расшифровать информацию при помощи паролей\n",
    "\n",
    "import simplecrypt\n",
    "\n",
    "with open('encrypted.bin', 'rb') as inf:\n",
    "    encr = inf.read().strip()\n",
    "    \n",
    "print(encr)\n",
    "\n",
    "psswd = []\n",
    "\n",
    "with open('passwords.txt') as inf:\n",
    "    for line in inf:\n",
    "        psswd.append(line.strip())\n",
    "\n",
    "print(psswd)\n",
    "        \n",
    "pltext = decrypt(psswd[4], encr)\n",
    "print(pltext)"
   ]
  }
 ],
 "metadata": {
  "kernelspec": {
   "display_name": "Python 3",
   "language": "python",
   "name": "python3"
  },
  "language_info": {
   "codemirror_mode": {
    "name": "ipython",
    "version": 3
   },
   "file_extension": ".py",
   "mimetype": "text/x-python",
   "name": "python",
   "nbconvert_exporter": "python",
   "pygments_lexer": "ipython3",
   "version": "3.6.0"
  }
 },
 "nbformat": 4,
 "nbformat_minor": 2
}
