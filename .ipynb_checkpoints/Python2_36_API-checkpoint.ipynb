{
 "cells": [
  {
   "cell_type": "code",
   "execution_count": 8,
   "metadata": {},
   "outputs": [
    {
     "name": "stdout",
     "output_type": "stream",
     "text": [
      "City? London\n",
      "Current temperature in London is 12.8\n"
     ]
    }
   ],
   "source": [
    "# Занятие посвящено работе с API\n",
    "\n",
    "# API - это задокументированная возможность, набор функций, констант и методов\n",
    "# web-API - это возможность доступа к сервису через сеть\n",
    "\n",
    "# OpenWeatherMap\n",
    "# Необходим API-ключ\n",
    "\n",
    "# 11c0d3dc6093f7442898ee49d2430d20\n",
    "\n",
    "import requests\n",
    "\n",
    "city = input('City? ')\n",
    "\n",
    "api_url = 'http://api.openweathermap.org/data/2.5/weather'\n",
    "params = {\n",
    "    'q':city,\n",
    "    'appid':'11c0d3dc6093f7442898ee49d2430d20',\n",
    "    'units':'metric'\n",
    "}\n",
    "\n",
    "res = requests.get(api_url, params=params)\n",
    "#print(res.status_code)\n",
    "#print(res.headers[\"Content-Type\"])\n",
    "#print(res.json()) #загружаем ответ в формате json\n",
    "data = res.json()\n",
    "template = 'Current temperature in {} is {}'\n",
    "print(template.format(city, data['main']['temp']))\n"
   ]
  },
  {
   "cell_type": "code",
   "execution_count": 23,
   "metadata": {},
   "outputs": [
    {
     "name": "stdout",
     "output_type": "stream",
     "text": [
      "Boring\n",
      "Boring\n",
      "Interesting\n",
      "Boring\n",
      "Interesting\n",
      "Boring\n",
      "Interesting\n",
      "Boring\n",
      "Interesting\n",
      "Interesting\n",
      "Boring\n",
      "Boring\n",
      "Boring\n",
      "Interesting\n",
      "Interesting\n"
     ]
    }
   ],
   "source": [
    "# Задача 1 - разбираемся в API numpersapi.com\n",
    "\n",
    "'''import requests\n",
    "\n",
    "number = input()\n",
    "\n",
    "api_url = 'http://numbersapi.com/' + number + '/math'\n",
    "params = {\n",
    "    'json':'true'\n",
    "}\n",
    "\n",
    "res = requests.get(api_url, params=params)\n",
    "data = res.json()\n",
    "if data['found']:\n",
    "    print('Interesting')\n",
    "else:\n",
    "    print('Boring')'''\n",
    "\n",
    "import sys, re, requests\n",
    "\n",
    "params = {\n",
    "    'json':'true'\n",
    "}\n",
    "\n",
    "with open('dataset_24476_3.txt') as inf:\n",
    "    for line in inf:\n",
    "        number = line.strip()\n",
    "        api_url = 'http://numbersapi.com/' + number + '/math'\n",
    "        res = requests.get(api_url, params=params)\n",
    "        data = res.json()\n",
    "        if data['found']:\n",
    "            print('Interesting')\n",
    "        else:\n",
    "            print('Boring')\n",
    "        "
   ]
  },
  {
   "cell_type": "code",
   "execution_count": 36,
   "metadata": {},
   "outputs": [
    {
     "name": "stdout",
     "output_type": "stream",
     "text": [
      "Abbott Lemuel Francis : 1760\n",
      "Abbati Vincenzo : 1803\n",
      "Abbo Jussuf : 1888\n",
      "Aalto Alvar : 1898\n",
      "Abelard Gesner : 1922\n",
      "Abramson Bernie : 1923\n",
      "Abakanowicz Magdalena : 1930\n",
      "Abend Harry : 1937\n",
      "Abate Claudio : 1943\n",
      "Abegg Jimmy : 1954\n",
      "Ackermann Franz : 1963\n",
      "23 Rigo : 1966\n",
      "Achour Boris : 1966\n",
      "Abraham Poincheval : 1972\n",
      "Abney Nina Chanel : 1982\n"
     ]
    },
    {
     "data": {
      "text/plain": [
       "\"api_url = 'https://api.artsy.net/api/artists/55956e8d72616970d400002b'\\n\\n# инициируем запрос с заголовком\\nr = requests.get(api_url, headers=headers)\\n\\n# разбираем ответ сервера\\nj = json.loads(r.text)\\nprint(j)\""
      ]
     },
     "execution_count": 36,
     "metadata": {},
     "output_type": "execute_result"
    }
   ],
   "source": [
    "# Задача 2 - разбор API artsy.net\n",
    "\n",
    "import requests\n",
    "import json\n",
    "\n",
    "client_id = '33da9e9a505b9bd2804e'\n",
    "client_secret = '54516aaea01712494ab4715462c122ee'\n",
    "\n",
    "# инициируем запрос на получение токена\n",
    "r = requests.post(\"https://api.artsy.net/api/tokens/xapp_token\",\n",
    "                  data={\n",
    "                      \"client_id\": client_id,\n",
    "                      \"client_secret\": client_secret\n",
    "                  })\n",
    "\n",
    "# разбираем ответ сервера\n",
    "j = json.loads(r.text)\n",
    "\n",
    "# достаем токен\n",
    "token = j[\"token\"]\n",
    "\n",
    "# создаем заголовок, содержащий наш токен\n",
    "headers = {\"X-Xapp-Token\" : token}\n",
    "\n",
    "artists = []\n",
    "\n",
    "with open('dataset_24476_4.txt') as inf:\n",
    "    for line in inf:\n",
    "        ask = line.strip()\n",
    "        api_url = 'https://api.artsy.net/api/artists/' + ask\n",
    "\n",
    "        # инициируем запрос с заголовком\n",
    "        r = requests.get(api_url, headers=headers)\n",
    "\n",
    "        # разбираем ответ сервера\n",
    "        j = json.loads(r.text)\n",
    "        artists.append({'sortable_name':j['sortable_name'], 'birthday':j['birthday']})\n",
    "\n",
    "artists.sort(key = lambda x: x['birthday'])\n",
    "for artist in artists:\n",
    "    print(artist['sortable_name'])\n",
    "\n",
    "'''api_url = 'https://api.artsy.net/api/artists/55956e8d72616970d400002b'\n",
    "\n",
    "# инициируем запрос с заголовком\n",
    "r = requests.get(api_url, headers=headers)\n",
    "\n",
    "# разбираем ответ сервера\n",
    "j = json.loads(r.text)\n",
    "print(j)'''"
   ]
  }
 ],
 "metadata": {
  "kernelspec": {
   "display_name": "Python 3",
   "language": "python",
   "name": "python3"
  },
  "language_info": {
   "codemirror_mode": {
    "name": "ipython",
    "version": 3
   },
   "file_extension": ".py",
   "mimetype": "text/x-python",
   "name": "python",
   "nbconvert_exporter": "python",
   "pygments_lexer": "ipython3",
   "version": "3.6.0"
  }
 },
 "nbformat": 4,
 "nbformat_minor": 2
}
