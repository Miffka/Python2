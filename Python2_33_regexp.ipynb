{
 "cells": [
  {
   "cell_type": "code",
   "execution_count": 4,
   "metadata": {},
   "outputs": [
    {
     "name": "stdout",
     "output_type": "stream",
     "text": [
      "hello\n",
      "world\n",
      "hello\\nworld\n"
     ]
    }
   ],
   "source": [
    "# Регулярные выражения - поиск подстрок и прочего\n",
    "\n",
    "#Сырые строки\n",
    "x = 'hello\\nworld'\n",
    "print(x)\n",
    "# в сырых строках все символы выводятся со служебными символами\n",
    "y = r'hello\\nworld'\n",
    "print(y)"
   ]
  },
  {
   "cell_type": "code",
   "execution_count": 11,
   "metadata": {},
   "outputs": [
    {
     "name": "stdout",
     "output_type": "stream",
     "text": [
      "None\n",
      "<_sre.SRE_Match object; span=(1, 4), match='abc'>\n"
     ]
    }
   ],
   "source": [
    "import re\n",
    "\n",
    "#regular expressions - модуль стандартной библиотеки\n",
    "'''\n",
    "print(re.match) # проверяет, подходит ли данная строка под данный шаблон\n",
    "print(re.search) # находит первую подстроку, которая подходит под данный шаблон\n",
    "print(re.findall) # находит все подстроки данной строки, которые подходят под данный шаблон\n",
    "print(re.sub) # заменяет все вхождения данного шаблона в данную строку\n",
    "\n",
    "'''\n",
    "\n",
    "pattern = r'abc'\n",
    "string = 'babc'\n",
    "match_object = re.match(pattern, string) #находит строку с префиксом pattern\n",
    "print(match_object)\n",
    "\n",
    "search_object = re.search(pattern, string)\n",
    "print(search_object) # возвращает в span символы, находящиеся между промежутками"
   ]
  },
  {
   "cell_type": "code",
   "execution_count": 12,
   "metadata": {},
   "outputs": [
    {
     "name": "stdout",
     "output_type": "stream",
     "text": [
      "<_sre.SRE_Match object; span=(0, 3), match='acc'>\n"
     ]
    }
   ],
   "source": [
    "#выбор символа из паттернов\n",
    "pattern = r'a[abc]c'\n",
    "string = 'acc'\n",
    "match_object = re.match(pattern, string) #находит строку с префиксом pattern\n",
    "print(match_object)"
   ]
  },
  {
   "cell_type": "code",
   "execution_count": 7,
   "metadata": {},
   "outputs": [
    {
     "name": "stdout",
     "output_type": "stream",
     "text": [
      "['abc', 'acc']\n",
      "There is something inside\n"
     ]
    }
   ],
   "source": [
    "# функция findall\n",
    "string = 'abc, aac, acc'\n",
    "pattern = r'a[dbce]c'\n",
    "all_inclusions = re.findall(pattern, string)\n",
    "print(all_inclusions)\n",
    "if all_inclusions:\n",
    "    print(\"There is something inside\")"
   ]
  },
  {
   "cell_type": "code",
   "execution_count": 16,
   "metadata": {},
   "outputs": [
    {
     "name": "stdout",
     "output_type": "stream",
     "text": [
      "abc, abc, abc\n"
     ]
    }
   ],
   "source": [
    "# функция sub\n",
    "string = 'abc, aac, acc'\n",
    "pattern = r'a[abc]c'\n",
    "fixed_typos = re.sub(pattern, 'abc', string)\n",
    "print(fixed_typos)"
   ]
  },
  {
   "cell_type": "code",
   "execution_count": 3,
   "metadata": {},
   "outputs": [
    {
     "name": "stdout",
     "output_type": "stream",
     "text": [
      "<_sre.SRE_Match object; span=(12, 21), match=' english?'>\n"
     ]
    }
   ],
   "source": [
    "import re\n",
    "\n",
    "# поиск метасимволов\n",
    "pattern = r' english\\?'\n",
    "string = 'Do you speak english?'\n",
    "match = re.search(pattern, string)\n",
    "print(match)\n",
    "\n",
    "# . ^ * + ? { } [ ] \\ | ( ) -- метасимволы\n"
   ]
  },
  {
   "cell_type": "code",
   "execution_count": 27,
   "metadata": {},
   "outputs": [
    {
     "name": "stdout",
     "output_type": "stream",
     "text": [
      "['abc', 'acc', 'aac', 'adc', 'aGc']\n",
      "['a-c']\n",
      "['abc', 'acc', 'aac', 'adc', 'aGc', 'a-c']\n"
     ]
    }
   ],
   "source": [
    "# диапазоны букв\n",
    "pattern = r'a[a-zA-Z]c'\n",
    "string = 'abc, acc, aac, adc, aGc'\n",
    "all_inclusions = re.findall(pattern, string)\n",
    "print(all_inclusions)\n",
    "\n",
    "# исключение из диапазона\n",
    "pattern = r'a[^a-zA-Z]c' #не подходят буквы в скобочках\n",
    "string = 'abc, acc, aac, adc, aGc, a-c'\n",
    "all_inclusions = re.findall(pattern, string)\n",
    "print(all_inclusions)\n",
    "\n",
    "# \\d - [0-9] цифры\n",
    "# \\D - [^0-9] нецифры\n",
    "# \\s - [ \\t\\n\\r\\f\\v] пробельные символы\n",
    "# \\S - [^ \\t\\n\\r\\f\\v] непробельные символы\n",
    "# \\w - [a-zA-Z0-9_] буквы + цифры + _\n",
    "# \\W - [^a-zA-Z0-9_]\n",
    "# . - любой символ, кроме переноса строки\n",
    "\n",
    "pattern = r'a[\\w-]c'\n",
    "string = 'abc, acc, aac, adc, aGc, a-c'\n",
    "all_inclusions = re.findall(pattern, string)\n",
    "print(all_inclusions)"
   ]
  },
  {
   "cell_type": "code",
   "execution_count": 40,
   "metadata": {},
   "outputs": [
    {
     "name": "stdout",
     "output_type": "stream",
     "text": [
      "['aa', 'aba']\n",
      "<_sre.SRE_Match object; span=(0, 6), match='abaaba'>\n",
      "<_sre.SRE_Match object; span=(0, 4), match='abaa'>\n",
      "<_sre.SRE_Match object; span=(0, 3), match='aba'>\n",
      "['aba', 'aba']\n"
     ]
    }
   ],
   "source": [
    "# Повторы и группы символов\n",
    "\n",
    "pattern = r'ab?a'\n",
    "string = 'aa, aba, abba'\n",
    "all_inclusions = re.findall(pattern, string)\n",
    "print(all_inclusions)\n",
    "\n",
    "# * -- 0 и более вхождений символа\n",
    "# + -- 1 и более вхождений символа\n",
    "# ? -- 0 или 1 вхождений символа\n",
    "# {n} -- ровно n вхождений\n",
    "# {n,m} -- от n до m вхождений\n",
    "\n",
    "# все эти символы - жадные!\n",
    "pattern = r'a[ab]+a'\n",
    "string = 'abaaba'\n",
    "match_object = re.match(pattern, string)\n",
    "print(match_object) # возвращает самый длинный префикс\n",
    "\n",
    "string = 'abaabb'\n",
    "match_object = re.match(pattern, string)\n",
    "print(match_object)\n",
    "\n",
    "# можем искать самую короткую подстроку вместо самой длинной\n",
    "pattern = r'a[ab]+?a' # добавляем ? после метасимвола\n",
    "string = 'abaaba'\n",
    "match_object = re.match(pattern, string)\n",
    "print(match_object) # возвращает самый короткий префикс\n",
    "all_inclusions = re.findall(pattern, string)\n",
    "print(all_inclusions) # находит оба вхождения подстроки"
   ]
  },
  {
   "cell_type": "code",
   "execution_count": 64,
   "metadata": {},
   "outputs": [
    {
     "name": "stdout",
     "output_type": "stream",
     "text": [
      "<_sre.SRE_Match object; span=(0, 4), match='test'>\n",
      "<_sre.SRE_Match object; span=(0, 3), match='abc'>\n",
      "('abc', 'abc', None)\n",
      "<_sre.SRE_Match object; span=(0, 12), match='testtexttest'>\n",
      "('testtexttest', None, 'test')\n",
      "<_sre.SRE_Match object; span=(0, 9), match='Hello abc'>\n",
      "Hello abc\n",
      "abc\n",
      "<_sre.SRE_Match object; span=(0, 9), match='test-test'>\n",
      "('test',)\n",
      "test chow\n",
      "[('test-test', 'test'), ('chow-chow', 'chow')]\n"
     ]
    }
   ],
   "source": [
    "# Группировка символов\n",
    "\n",
    "pattern = r'(test)*'\n",
    "string = 'test'\n",
    "match_object = re.match(pattern, string)\n",
    "print(match_object)\n",
    "\n",
    "pattern = r'((abc)|(test|text))*' # можем искать вхождения разных групп, разделенных символом \"или\"\n",
    "string = 'abc'\n",
    "match_object = re.match(pattern, string)\n",
    "print(match_object)\n",
    "print(match_object.groups())\n",
    "# группы перечислены в том порядке, в котором перечислены открывающие скобки\n",
    "# первая скобка - все выражение\n",
    "# вторая скобка - группа (abc)\n",
    "# третья скобка - группа (test|text)\n",
    "\n",
    "pattern = r'((abc)|(test|text)*)' # группы с символами повторения запоминают последнее вхождение группы\n",
    "string = 'testtexttest'\n",
    "match_object = re.match(pattern, string)\n",
    "print(match_object)\n",
    "print(match_object.groups())\n",
    "\n",
    "pattern = r'Hello (abc|test)'\n",
    "string = 'Hello abc'\n",
    "match_object = re.match(pattern, string)\n",
    "print(match_object)\n",
    "print(match_object.group(0)) # все совпадение с шаблоном\n",
    "print(match_object.group(1)) # содержимое первой открывающей скобки\n",
    "\n",
    "# можем использовать группу прямо внутри найденного регулярного выражения\n",
    "pattern = r'(\\w+)-\\1' # добавляем \\1 - это значит \"найди точно такую же группу 1 еще раз\"\n",
    "# \\3 означает \"найди третью группу или группу, соответствующую третьей скобке\"\n",
    "string = 'test-test'\n",
    "match_object = re.match(pattern, string)\n",
    "print(match_object)\n",
    "print(match_object.groups())\n",
    "\n",
    "# можем переиспользовать найденную группу для замены\n",
    "pattern = r'(\\w+)-\\1'\n",
    "string = 'test-test chow-chow'\n",
    "duplicates = re.sub(pattern, r'\\1', string)\n",
    "print(duplicates)\n",
    "\n",
    "# манипулируя скобками, мы можем поймать кортежи из вхождений групп\n",
    "pattern = r'((\\w+)-\\2)'\n",
    "string = 'test-test chow-chow'\n",
    "duplicates = re.findall(pattern, string)\n",
    "print(duplicates)"
   ]
  },
  {
   "cell_type": "code",
   "execution_count": 78,
   "metadata": {},
   "outputs": [
    {
     "name": "stdout",
     "output_type": "stream",
     "text": [
      "<_sre.SRE_Match object; span=(0, 4), match='TEXT'>\n",
      "MIN_REPEAT 0 MAXREPEAT\n",
      "  SUBPATTERN 1 0 0\n",
      "    LITERAL 116\n",
      "    LITERAL 101\n",
      "LITERAL 120\n",
      "LITERAL 116\n",
      "<_sre.SRE_Match object; span=(0, 4), match='TEXT'>\n"
     ]
    }
   ],
   "source": [
    "# можем передавать флажки\n",
    "\n",
    "x = re.match(r'text', 'TEXT', re.IGNORECASE)\n",
    "print(x)\n",
    "\n",
    "# можем комбинировать флаги\n",
    "x = re.match(r'(te)*?xt', 'TEXT', re.IGNORECASE | re.DEBUG)\n",
    "print(x)"
   ]
  },
  {
   "cell_type": "code",
   "execution_count": 3,
   "metadata": {
    "collapsed": true
   },
   "outputs": [],
   "source": [
    "# Задача 1 - вывести все строки, содержащие 'cat' в качестве подстроки хотя бы два раза\n",
    "\n",
    "import sys, re\n",
    "\n",
    "for line in sys.stdin:\n",
    "    line = line.rstrip()\n",
    "    if re.search(r'cat.*cat', line):\n",
    "        print(line)"
   ]
  },
  {
   "cell_type": "code",
   "execution_count": 1,
   "metadata": {},
   "outputs": [
    {
     "name": "stdout",
     "output_type": "stream",
     "text": [
      "cat and cat\n"
     ]
    }
   ],
   "source": [
    "# Задача 2 - вывести все стркои, содержащие 'cat' в качестве слова\n",
    "\n",
    "import sys, re\n",
    "\n",
    "for line in sys.stdin:\n",
    "    line = line.rstrip()\n",
    "    pat = r'\\bcat\\b'\n",
    "    if re.search(pat, line):\n",
    "        print(line)"
   ]
  },
  {
   "cell_type": "code",
   "execution_count": 5,
   "metadata": {},
   "outputs": [
    {
     "name": "stdout",
     "output_type": "stream",
     "text": [
      "catcat\n"
     ]
    }
   ],
   "source": [
    "# Задача 3 - вывести строки, которые содержат 2 буквы z, между которыми ровно 3 символа\n",
    "\n",
    "import sys, re\n",
    "\n",
    "for line in sys.stdin:\n",
    "    line = line.rstrip()\n",
    "    pat = r'z.{3}z'\n",
    "    if re.search(pat,line):\n",
    "        print(line)"
   ]
  },
  {
   "cell_type": "code",
   "execution_count": 7,
   "metadata": {},
   "outputs": [
    {
     "name": "stdout",
     "output_type": "stream",
     "text": [
      "z   z\n",
      "z   z\n"
     ]
    }
   ],
   "source": [
    "# Задача 4 - вывести строки, содержащие обратный слэш\n",
    "\n",
    "import sys, re\n",
    "\n",
    "for line in sys.stdin:\n",
    "    line = line.rstrip()\n",
    "    pat = r'\\\\'\n",
    "    if re.search(pat,line):\n",
    "        print(line)"
   ]
  },
  {
   "cell_type": "code",
   "execution_count": null,
   "metadata": {
    "collapsed": true
   },
   "outputs": [],
   "source": [
    "# Задача 5 - вывести строки, содержащие тандемный повтор\n",
    "\n",
    "import sys, re\n",
    "\n",
    "for line in sys.stdin:\n",
    "    line = line.rstrip()\n",
    "    pat = r'\\b(\\w+)\\1\\b'\n",
    "    if re.search(pat,line):\n",
    "        print(line)"
   ]
  },
  {
   "cell_type": "code",
   "execution_count": null,
   "metadata": {
    "collapsed": true
   },
   "outputs": [],
   "source": [
    "# Задача 6 - заменить все вхождения human на computer\n",
    "\n",
    "import sys, re\n",
    "\n",
    "for line in sys.stdin:\n",
    "    line = line.rstrip()\n",
    "    pat = r'human'\n",
    "    print(re.sub(pat, 'computer', line))"
   ]
  },
  {
   "cell_type": "code",
   "execution_count": 15,
   "metadata": {},
   "outputs": [
    {
     "name": "stdout",
     "output_type": "stream",
     "text": [
      "c\n",
      "argh\n",
      "t\n",
      "\n",
      "argh\n",
      "n\n",
      "d\n",
      "\n",
      "c\n",
      "argh\n",
      "t\n"
     ]
    }
   ],
   "source": [
    "# Задача 7 - заменить первое вхождение слова, состоящего из букв 'a' (регистр не важен), на слово 'argh'\n",
    "\n",
    "import sys, re\n",
    "\n",
    "for line in sys.stdin:\n",
    "    line = line.rstrip()\n",
    "    pat = r'\\ba+\\b'\n",
    "    print(re.sub(pat, 'argh', line, count = 1, flags = re.IGNORECASE))"
   ]
  },
  {
   "cell_type": "code",
   "execution_count": null,
   "metadata": {
    "collapsed": true
   },
   "outputs": [],
   "source": [
    "# Задача 8 - в каждом слове, состоящем хотя бы из двух букв, поменять местами первые две буквы\n",
    "\n",
    "import sys, re\n",
    "\n",
    "for line in sys.stdin:\n",
    "    line = line.rstrip()\n",
    "    pat = r'\\b(\\w)(\\w)'\n",
    "    print(re.sub(pat, r'\\2\\1', line))"
   ]
  },
  {
   "cell_type": "code",
   "execution_count": null,
   "metadata": {
    "collapsed": true
   },
   "outputs": [],
   "source": [
    "# Задача 9 - в каждой строке заменить вхождения нескольких одинаковых идущих подряд букв на одну букву\n",
    "\n",
    "import sys, re\n",
    "\n",
    "for line in sys.stdin:\n",
    "    line = line.rstrip()\n",
    "    pat = r'(\\w)\\1+'\n",
    "    print(re.sub(pat, r'\\1', line))"
   ]
  },
  {
   "cell_type": "code",
   "execution_count": null,
   "metadata": {
    "collapsed": true
   },
   "outputs": [],
   "source": [
    "# Задача 10 - дополнительная\n",
    "# Вывести все строки, содержащие двоичную запись числа, кратного 3\n",
    "# Не решена\n",
    "\n",
    "import sys, re\n",
    "\n",
    "for line in sys.stdin:\n",
    "    line = line.rstrip()\n",
    "    pat = r'(1(01*0)*1|0)*'\n",
    "    if re.match(pat, line):\n",
    "        print(line)"
   ]
  }
 ],
 "metadata": {
  "kernelspec": {
   "display_name": "Python 3",
   "language": "python",
   "name": "python3"
  },
  "language_info": {
   "codemirror_mode": {
    "name": "ipython",
    "version": 3
   },
   "file_extension": ".py",
   "mimetype": "text/x-python",
   "name": "python",
   "nbconvert_exporter": "python",
   "pygments_lexer": "ipython3",
   "version": "3.6.0"
  }
 },
 "nbformat": 4,
 "nbformat_minor": 2
}
